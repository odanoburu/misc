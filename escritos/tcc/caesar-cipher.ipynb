{
 "cells": [
  {
   "cell_type": "markdown",
   "metadata": {},
   "source": [
    "## criptografia simétrica\n",
    "\n",
    "### um exemplo em Python da [cifra de César](https://pt.wikipedia.org/wiki/Cifra_de_C%C3%A9sar)"
   ]
  },
  {
   "cell_type": "markdown",
   "metadata": {
    "collapsed": false
   },
   "source": [
    "Ada encontra Babbage pessoalmente, e eles escolhem uma chave para se comunicarem de maneira criptografada. depois de escolhida a chave, Ada pode enviar cartas para Babbage encriptando suas mensagens com a chave escolhida pelos dois, e Babbage pode decriptar as mensagens cifradas usando a mesma chave. como Ada e Babbage usam a mesma chave para encriptar e decriptar, a criptografia é __simétrica__.\n",
    "\n",
    "a cifra de césar é o tipo mais simples de criptografia simétrica. nesse tipo de cifra, a chave é um número qualquer $k$. o procedimento é simples: troca-se cada letra da mensagem a ser encriptada pela letra que está $k$ lugares à frente. no exemplo abaixo, $k=-3$, então trocamos cada letra pela letra que está três posições atrás:\n",
    "\n",
    "<img src=\"https://upload.wikimedia.org/wikipedia/commons/thumb/4/4a/Caesar_cipher_left_shift_of_3.svg/640px-Caesar_cipher_left_shift_of_3.svg.png\" alt=\"cifra de césar com k = -3\" width=\"350\" >\n",
    "###### créditos da imagem: WikiMedia\n",
    "\n",
    "aqui temos uma função simples em que Ada insere seu texto original e uma chave qualquer, e recebe como resultado um texto cifrado:"
   ]
  },
  {
   "cell_type": "code",
   "execution_count": 27,
   "metadata": {
    "collapsed": true
   },
   "outputs": [],
   "source": [
    "def caesar_encrypt(plaintext, key):\n",
    "    plaintext = plaintext.lower()\n",
    "    alphabet = ['a', 'b', 'c', 'd', 'e', 'f', 'g', 'h', 'i', 'j', 'k', 'l', 'm', 'n', 'o', 'p', 'q', 'r', 's', 't', 'u', 'v', 'w', 'x', 'y', 'z', ' ', '.', ',']\n",
    "    alphabet_length = len(alphabet)\n",
    "    key = key % alphabet_length\n",
    "    ciphertext = ''\n",
    "    \n",
    "    for letter in plaintext:\n",
    "        letter_ix = alphabet.index(letter)\n",
    "        caesar_ix = (letter_ix + key) % alphabet_length\n",
    "        ciphertext += alphabet[caesar_ix]\n",
    "    \n",
    "    return ciphertext"
   ]
  },
  {
   "cell_type": "markdown",
   "metadata": {},
   "source": [
    "###### obs: nessa implementação em código simples, a função só aceita letras latinas, espaços, vírgulas e pontos, mas seria simples expandí-la para aceitar qualquer tipo de caractere. \n",
    "\n",
    "Ada testa sua cifra de césar:"
   ]
  },
  {
   "cell_type": "code",
   "execution_count": 28,
   "metadata": {
    "collapsed": false
   },
   "outputs": [
    {
     "data": {
      "text/plain": [
       "',zddgswvwwv.z'"
      ]
     },
     "execution_count": 28,
     "metadata": {},
     "output_type": "execute_result"
    }
   ],
   "source": [
    "ciphert = caesar_encrypt('hello Babbage', 21)\n",
    "ciphert"
   ]
  },
  {
   "cell_type": "markdown",
   "metadata": {},
   "source": [
    "Ada envia $,zddgswvwwv.z$ numa carta para Babbage. Babbage usa uma função simples que toma o texto cifrado e uma chave para decifrá-lo."
   ]
  },
  {
   "cell_type": "code",
   "execution_count": 29,
   "metadata": {
    "collapsed": false
   },
   "outputs": [],
   "source": [
    "def caesar_decrypt(ciphertext, key):\n",
    "    alphabet = ['a', 'b', 'c', 'd', 'e', 'f', 'g', 'h', 'i', 'j', 'k', 'l', 'm', 'n', 'o', 'p', 'q', 'r', 's', 't', 'u', 'v', 'w', 'x', 'y', 'z', ' ',  '.', ',']\n",
    "    alphabet_length = len(alphabet)\n",
    "    key = key % alphabet_length\n",
    "    plaintext = ''\n",
    "    \n",
    "    for letter in ciphertext:\n",
    "        caesar_ix = alphabet.index(letter)\n",
    "        letter_ix = (caesar_ix - key) % alphabet_length\n",
    "        plaintext += alphabet[letter_ix]\n",
    "    \n",
    "    return plaintext"
   ]
  },
  {
   "cell_type": "markdown",
   "metadata": {},
   "source": [
    "Babbage já sabe que a chave é $21$, pois ele havia combinado essa senha com Ada anteriormente. como o conteúdo da carta cifrada é curto, Babbage poderia decigrar o texto a mão, trocando cada letra pela letra vinte e uma posições à frente. \n",
    "\n",
    "usando a função em código que toma um texto cifrado e a chave:"
   ]
  },
  {
   "cell_type": "code",
   "execution_count": 30,
   "metadata": {
    "collapsed": false
   },
   "outputs": [
    {
     "data": {
      "text/plain": [
       "'hello babbage'"
      ]
     },
     "execution_count": 30,
     "metadata": {},
     "output_type": "execute_result"
    }
   ],
   "source": [
    "caesar_decrypt(',zddgswvwwv.z', 21)"
   ]
  },
  {
   "cell_type": "markdown",
   "metadata": {},
   "source": [
    "imaginemos, no entanto, que Babbage houvesse esquecido a senha que trocou Ada. a cifra de césar é tão simples que tentar decifrar um texto cifrado usando força bruta é possível, basta testar todas as chaves possíveis. o número de chaves possíveis na cifra de césar é igual ao número de elementos do alfabeto, e é fácil ver o porquê disso. no nosso exemplo, o alfabeto disponível são todos as letras latinas e os caracteres especiais ' ', ',', e '.', i.e., 29 possibilidades diferentes de caractere. se Ada e Babbage escolhem a chave $2$, devem trocar a letra do texto original pela letra duas casas à frente para chegar ao texto cifrado. mas se a chave escolhida for $31$, a letra a ser substituída é a mesma que para a chave $2$, pois demos uma volta no alfabeto expandido empregado. essa é a razão para tomarmos o módulo da chave em relação à 29 (`alphabet_length`) no código abaixo: as chaves $k$ e $k + 29 \\cdot i  \\forall i \\in \\mathbb{Z}$ são equivalentes.\n",
    "\n",
    "por conta disso, Babbage só precisa testar 29 chaves diferentes para decifrar a mensagem de Ada -- e é por isso que a cifra de César não é segura."
   ]
  },
  {
   "cell_type": "code",
   "execution_count": 31,
   "metadata": {
    "collapsed": false
   },
   "outputs": [],
   "source": [
    "import time # para contar o tempo usado para decifrar o código com força bruta\n",
    "\n",
    "def caesar_brute(ciphertext):\n",
    "    start = time.time()\n",
    "    alphabet = ['a', 'b', 'c', 'd', 'e', 'f', 'g', 'h', 'i', 'j', 'k', 'l', 'm', 'n', 'o', 'p', 'q', 'r', 's', 't', 'u', 'v', 'w', 'x', 'y', 'z', ' ', '.', ',']\n",
    "    alphabet_length = len(alphabet)\n",
    "    \n",
    "    for key in range(1, alphabet_length):\n",
    "        shifted_key = key % alphabet_length\n",
    "        plaintext = ''\n",
    "        for letter in ciphertext:\n",
    "            letter_index = alphabet.index(letter)\n",
    "            decrypted_letter = alphabet[(letter_index - shifted_key) % alphabet_length]\n",
    "            plaintext += decrypted_letter\n",
    "        end = time.time()\n",
    "        print(plaintext, '| chave =', key)\n",
    "        print()\n",
    "    print(end - start)"
   ]
  },
  {
   "cell_type": "code",
   "execution_count": 33,
   "metadata": {
    "collapsed": false,
    "scrolled": false
   },
   "outputs": [
    {
     "name": "stdout",
     "output_type": "stream",
     "text": [
      ".yccfrvuvvu y | chave = 1\n",
      "\n",
      " xbbequtuutzx | chave = 2\n",
      "\n",
      "zwaadptsttsyw | chave = 3\n",
      "\n",
      "yv,,cosrssrxv | chave = 4\n",
      "\n",
      "xu..bnrqrrqwu | chave = 5\n",
      "\n",
      "wt  amqpqqpvt | chave = 6\n",
      "\n",
      "vszz,lpoppous | chave = 7\n",
      "\n",
      "uryy.konoontr | chave = 8\n",
      "\n",
      "tqxx jnmnnmsq | chave = 9\n",
      "\n",
      "spwwzimlmmlrp | chave = 10\n",
      "\n",
      "rovvyhlkllkqo | chave = 11\n",
      "\n",
      "qnuuxgkjkkjpn | chave = 12\n",
      "\n",
      "pmttwfjijjiom | chave = 13\n",
      "\n",
      "olssveihiihnl | chave = 14\n",
      "\n",
      "nkrrudhghhgmk | chave = 15\n",
      "\n",
      "mjqqtcgfggflj | chave = 16\n",
      "\n",
      "lippsbfeffeki | chave = 17\n",
      "\n",
      "khooraedeedjh | chave = 18\n",
      "\n",
      "jgnnq,dcddcig | chave = 19\n",
      "\n",
      "ifmmp.cbccbhf | chave = 20\n",
      "\n",
      "hello babbage | chave = 21\n",
      "\n",
      "gdkknza,aa,fd | chave = 22\n",
      "\n",
      "fcjjmy,.,,.ec | chave = 23\n",
      "\n",
      "ebiilx. .. db | chave = 24\n",
      "\n",
      "dahhkw z  zca | chave = 25\n",
      "\n",
      "c,ggjvzyzzyb, | chave = 26\n",
      "\n",
      "b.ffiuyxyyxa. | chave = 27\n",
      "\n",
      "a eehtxwxxw,  | chave = 28\n",
      "\n",
      "0.001974344253540039\n"
     ]
    }
   ],
   "source": [
    "caesar_brute(',zddgswvwwv.z')"
   ]
  },
  {
   "cell_type": "markdown",
   "metadata": {},
   "source": [
    "o computador de Babbage levou muito menos do que um segundo para testar todas as chaves possíveis, e Babbage pode ver facilmente que a chave que ele esqueceu é $21$. tentando decifrar o código à mão, Babbage levaria mais tempo do que isso, mas ainda assim ele teria a resposta em um tempo factível. o computador leva mais tempo quanto maior é a mensagem -- mas na prática bastaria tentar decifrar uma amostra da mensagem para achar a chave.\n",
    "\n",
    "como exemplo, uso um trecho da carta que Ada escreveu para Babbage em [14 de agosto de 1843](http://blog.stephenwolfram.com/2015/12/untangling-the-tale-of-ada-lovelace/):"
   ]
  },
  {
   "cell_type": "code",
   "execution_count": 37,
   "metadata": {
    "collapsed": false
   },
   "outputs": [
    {
     "name": "stdout",
     "output_type": "stream",
     "text": [
      " vjswzsals jgesezuslgsyakxdvaesl,zsaf dmzfxzsg svewalagfsvfys veztsfgsdanaf.skgmdsznzjsovksegjzsaewmzysoal,salsl,vfseqkzd stttswmlsasxzjlvafdqsogmdysfglsyzxzanzseqkzd sgjsgl,zjkswqshjzlzfyaf.salsaksgl,zjsl,vfsvsnzjqsaehgjlvflseglanzsvfysaf.jzyazflsafseqsx,vjvxlzjsvfysfvlmjzt\n"
     ]
    }
   ],
   "source": [
    "ciphert = caesar_encrypt('Far be it from me, to disclaim the influence of ambition and fame. No living soul ever was more imbued with it than myself ... but I certainly would not deceive myself or others by pretending it is other than a very important motive and ingredient in my character and nature.', 21)\n",
    "print(ciphert)"
   ]
  },
  {
   "cell_type": "markdown",
   "metadata": {},
   "source": [
    "colocando o texto cifrado na função de decriptação por força bruta:"
   ]
  },
  {
   "cell_type": "code",
   "execution_count": 38,
   "metadata": {
    "collapsed": false
   },
   "outputs": [
    {
     "name": "stdout",
     "output_type": "stream",
     "text": [
      "zuirvyr,krzifdrdytrkfrx,jwcu,drk.yr,ezclyewyrfzrudv,k,feruexrzudysrefrc,m,e rjflcrymyirnujrdfiyr,dvlyxrn,k.r,krk.uerdpjyczrsssrvlkr,rwyiku,ecprnflcxrefkrxywy,myrdpjyczrfirfk.yijrvprgiykyex,e r,kr,jrfk.yirk.uerurmyipr,dgfikuekrdfk,myruexr,e iyx,yekr,erdprw.uiuwkyiruexreukliys | chave = 1\n",
      "\n",
      "ythquxq.jqyhecqcxsqjeqw.ivbt.cqj xq.dybkxdvxqeyqtcu.j.edqtdwqytcxrqdeqb.l.dzqiekbqxlxhqmtiqcehxq.cukxwqm.j q.jqj tdqcoixbyqrrrqukjq.qvxhjt.dboqmekbwqdejqwxvx.lxqcoixbyqehqej xhiquoqfhxjxdw.dzq.jq.iqej xhqj tdqtqlxhoq.cfehjtdjqcej.lxqtdwq.dzhxw.xdjq.dqcoqv thtvjxhqtdwqdtjkhxr | chave = 2\n",
      "\n",
      "xsgptwp ipxgdbpbwrpidpv huas bpizwp cxajwcuwpdxpsbt i dcpscvpxsbwqpcdpa k cyphdjapwkwgplshpbdgwp btjwvpl izp ipizscpbnhwaxpqqqptjip puwgis canpldjavpcdipvwuw kwpbnhwaxpdgpdizwghptnpegwiwcv cyp ip hpdizwgpizscpspkwgnp bedgiscipbdi kwpscvp cygwv wcip cpbnpuzsgsuiwgpscvpcsijgwq | chave = 3\n",
      "\n",
      "wrfosvozhowfcaoavqohcouzgt,rzaohyvozbw,ivbtvocworaszhzcborbuowravpobco,zjzbxogci,ovjvfokrgoacfvozasivuokzhyozhohyrboamgv,woppposihozotvfhrzb,mokci,uobchouvtvzjvoamgv,wocfochyvfgosmodfvhvbuzbxozhozgochyvfohyrborojvfmozadcfhrbhoachzjvorbuozbxfvuzvbhozboamotyrfrthvforbuobrhifvp | chave = 4\n",
      "\n",
      "vqenrunygnveb,n,upngbntyfs.qy,ngxunyav.huasunbvnq,rygybanqatnvq,uonabn.yiyawnfbh.nuiuenjqfn,beuny,rhutnjygxnygngxqan,lfu.vnooonrhgnynsuegqya.lnjbh.tnabgntusuyiun,lfu.vnbenbgxuefnrlnceuguatyawnygnyfnbgxuengxqanqniuelny,cbegqagn,bgyiunqatnyaweutyuagnyan,lnsxqeqsguenqatnaqgheuo | chave = 5\n",
      "\n",
      "updmqtmxfmuda.m.tomfamsxer px.mfwtmx,u gt,rtmaump.qxfxa,mp,smup.tnm,am xhx,vmeag mthtdmipem.adtmx.qgtsmixfwmxfmfwp,m.ket umnnnmqgfmxmrtdfpx, kmiag sm,afmstrtxhtm.ket umadmafwtdemqkmbdtft,sx,vmxfmxemafwtdmfwp,mpmhtdkmx.badfp,fm.afxhtmp,smx,vdtsxt,fmx,m.kmrwpdprftdmp,sm,pfgdtn | chave = 6\n",
      "\n",
      "toclpslweltc, l snle,lrwdqzow levslw.tzfs.qsl,tlo pwew,.lo.rlto sml.,lzwgw.uld,fzlsgsclhodl ,cslw pfsrlhwevlwelevo.l jdsztlmmmlpfelwlqsceow.zjlh,fzrl.,elrsqswgsl jdsztl,cl,evscdlpjlacses.rw.ulwelwdl,evsclevo.lolgscjlw a,ceo.el ,ewgslo.rlw.ucsrws.elw.l jlqvocoqesclo.rl.oefcsm | chave = 7\n",
      "\n",
      "snbkorkvdksb.zkzrmkd.kqvcpynvzkdurkv syer prk.sknzovdv. kn qksnzrlk .kyvfv tkc.eykrfrbkgnckz.brkvzoerqkgvdukvdkdun kzicrysklllkoedkvkprbdnv yikg.eyqk .dkqrprvfrkzicrysk.bk.durbckoik,brdr qv tkvdkvck.durbkdun knkfrbikvz,.bdn dkz.dvfrkn qkv tbrqvr dkv kzikpunbnpdrbkn qk ndebrl | chave = 8\n",
      "\n",
      "rmajnqjucjra yjyqljc jpuboxmuyjctqjuzrxdqzoqj rjmynucu zjmzpjrmyqkjz jxueuzsjb dxjqeqajfmbjy aqjuyndqpjfuctjucjctmzjyhbqxrjkkkjndcjujoqacmuzxhjf dxpjz cjpqoqueqjyhbqxrj aj ctqabjnhj.aqcqzpuzsjucjubj ctqajctmzjmjeqahjuy. acmzcjy cueqjmzpjuzsaqpuqzcjuzjyhjotmamocqajmzpjzmcdaqk | chave = 9\n",
      "\n",
      "ql,impitbiq,zxixpkibziotanwltxibspityqwcpynpizqilxmtbtzyilyoiqlxpjiyziwtdtyriazcwipdp,ielaixz,pitxmcpoietbsitbibslyixgapwqijjjimcbitinp,bltywgiezcwoiyzbiopnptdpixgapwqiz,izbsp,aimgi ,pbpyotyritbitaizbsp,ibslyilidp,gitx z,blybixzbtdpilyoityr,potpybityixginsl,lnbp,ilyoiylbc,pj | chave = 10\n",
      "\n",
      "pk.hlohsahp.ywhwojhayhns,mvkswharohsxpvboxmohyphkwlsasyxhkxnhpkwoihxyhvscsxqh,ybvhoco.hdk,hwy.ohswlbonhdsarhsaharkxhwf,ovphiiihlbahshmo.aksxvfhdybvnhxyahnomoscohwf,ovphy.hyaro.,hlfhz.oaoxnsxqhsahs,hyaro.harkxhkhco.fhswzy.akxahwyascohkxnhsxq.onsoxahsxhwfhmrk.kmao.hkxnhxkab.oi | chave = 11\n",
      "\n",
      "oj gkngr,go xvgvnig,xgmr.lujrvg,qngrwouanwlngxogjvkr,rxwgjwmgojvnhgwxgurbrwpg.xaugnbn gcj.gvx ngrvkanmgcr,qgr,g,qjwgve.nuoghhhgka,grgln ,jrwuegcxaumgwx,gmnlnrbngve.nuogx gx,qn .gkegy n,nwmrwpgr,gr.gx,qn g,qjwgjgbn egrvyx ,jw,gvx,rbngjwmgrwp nmrnw,grwgveglqj jl,n gjwmgwj,a nh | chave = 12\n",
      "\n",
      "nizfjmfq.fnzwufumhf.wflq ktiquf.pmfqvnt,mvkmfwnfiujq.qwvfivlfniumgfvwftqaqvof w,tfmamzfbi fuwzmfquj,mlfbq.pfq.f.pivfud mtnfgggfj,.fqfkmz.iqvtdfbw,tlfvw.flmkmqamfud mtnfwzfw.pmz fjdfxzm.mvlqvofq.fq fw.pmzf.pivfifamzdfquxwz.iv.fuw.qamfivlfqvozmlqmv.fqvfudfkpizik.mzfivlfvi.,zmg | chave = 13\n",
      "\n",
      "mhyeilep emyvtetlge vekpzjshpte olepums.lujlevmehtip pvuehukemhtlfeuvesp,punezv.sel,lyeahzetvylepti.lkeap oep e ohuetczlsmefffei. epejly hpusceav.skeuv ekljlp,letczlsmevyev olyzeicewyl lukpunep epzev olye ohuehe,lyceptwvy hu etv p,lehukepunylkplu epuetcejohyhj lyehukeuh .ylf | chave = 14\n",
      "\n",
      "lgxdhkdozdlxusdskfdzudjoyirgosdznkdotlr ktikduldgshozoutdgtjdlgskedtudro.otmdyu rdk.kxd,gydsuxkdosh kjd,ozndozdzngtdsbykrldeeedh zdodikxzgotrbd,u rjdtuzdjkiko.kdsbykrlduxduznkxydhbdvxkzktjotmdozdoyduznkxdzngtdgd.kxbdosvuxzgtzdsuzo.kdgtjdotmxkjoktzdotdsbdingxgizkxdgtjdtgz xke | chave = 15\n",
      "\n",
      "kfwcgjcnyckwtrcrjecytcinxhqfnrcymjcnskqzjshjctkcfrgnyntscfsickfrjdcstcqn nslcxtzqcj jwc.fxcrtwjcnrgzjic.nymcnycymfscraxjqkcdddcgzycnchjwyfnsqac.tzqicstycijhjn jcraxjqkctwctymjwxcgacuwjyjsinslcnycnxctymjwcymfscfc jwacnrutwyfsycrtyn jcfsicnslwjinjsycnscrachmfwfhyjwcfsicsfyzwjd | chave = 16\n",
      "\n",
      "jevbfibmxbjvsqbqidbxsbhmwgpemqbxlibmrjpyirgibsjbeqfmxmsrberhbjeqicbrsbpmzmrkbwsypbizivb ewbqsvibmqfyihb mxlbmxbxlerbq,wipjbcccbfyxbmbgivxemrp,b syphbrsxbhigimzibq,wipjbsvbsxlivwbf,btvixirhmrkbmxbmwbsxlivbxlerbebziv,bmqtsvxerxbqsxmziberhbmrkvihmirxbmrbq,bglevegxivberhbrexyvic | chave = 17\n",
      "\n",
      "iduaehalwaiurpaphcawraglvfodlpawkhalqioxhqfhariadpelwlrqadqgaidphbaqraolylqjavrxoahyhuazdvapruhalpexhgazlwkalwawkdqap.vhoiabbbaexwalafhuwdlqo.azrxogaqrwaghfhlyhap.vhoiaruarwkhuvae.asuhwhqglqjalwalvarwkhuawkdqadayhu.alpsruwdqwaprwlyhadqgalqjuhglhqwalqap.afkdudfwhuadqgaqdwxuhb | chave = 18\n",
      "\n",
      "hct,dg,kv,htqo,ogb,vq,fkuencko,vjg,kphnwgpeg,qh,codkvkqp,cpf,hcoga,pq,nkxkpi,uqwn,gxgt,ycu,oqtg,kodwgf,ykvj,kv,vjcp,o ugnh,aaa,dwv,k,egtvckpn ,yqwnf,pqv,fgegkxg,o ugnh,qt,qvjgtu,d ,rtgvgpfkpi,kv,ku,qvjgt,vjcp,c,xgt ,korqtvcpv,oqvkxg,cpf,kpitgfkgpv,kp,o ,ejctcevgt,cpf,pcvwtga | chave = 19\n",
      "\n",
      "gbs.cf.ju.gspn.nfa.up.ejtdmbjn.uif.jogmvfodf.pg.bncjujpo.boe.gbnf,.op.mjwjoh.tpvm.fwfs.xbt.npsf.jncvfe.xjui.ju.uibo.nztfmg.,,,.cvu.j.dfsubjomz.xpvme.opu.efdfjwf.nztfmg.ps.puifst.cz.qsfufoejoh.ju.jt.puifs.uibo.b.wfsz.jnqpsubou.npujwf.boe.johsfejfou.jo.nz.dibsbdufs.boe.obuvsf, | chave = 20\n",
      "\n",
      "far be it from me, to disclaim the influence of ambition and fame. no living soul ever was more imbued with it than myself ... but i certainly would not deceive myself or others by pretending it is other than a very important motive and ingredient in my character and nature. | chave = 21\n",
      "\n",
      "e,qzadzhszeqnlzld.zsnzchrbk,hlzsgdzhmektdmbdznez,lahshnmz,mcze,ld zmnzkhuhmfzrntkzdudqzv,rzlnqdzhlatdczvhsgzhszsg,mzlxrdkez   zatszhzbdqs,hmkxzvntkczmnszcdbdhudzlxrdkeznqznsgdqrzaxzoqdsdmchmfzhszhrznsgdqzsg,mz,zudqxzhlonqs,mszlnshudz,mczhmfqdchdmszhmzlxzbg,q,bsdqz,mczm,stqd  | chave = 22\n",
      "\n",
      "d.py,cygrydpmkykc yrmybgqaj.gkyrfcygldjsclacymdy.k,grgmly.lbyd.kczylmyjgtgleyqmsjyctcpyu.qykmpcygk,scbyugrfygryrf.lykwqcjdyzzzy,srygyacpr.gljwyumsjbylmrybcacgtcykwqcjdympymrfcpqy,wynpcrclbgleygrygqymrfcpyrf.ly.ytcpwygknmpr.lrykmrgtcy.lbyglepcbgclryglykwyaf.p.arcpy.lbyl.rspcz | chave = 23\n",
      "\n",
      "c ox.bxfqxcoljxjbzxqlxafp,i fjxqebxfkcirbk,bxlcx j.fqflkx kaxc jbyxklxifsfkdxplrixbsboxt pxjlobxfj.rbaxtfqexfqxqe kxjvpbicxyyyx.rqxfx,boq fkivxtlriaxklqxab,bfsbxjvpbicxloxlqebopx.vxmobqbkafkdxfqxfpxlqeboxqe kx xsbovxfjmloq kqxjlqfsbx kaxfkdobafbkqxfkxjvx,e o ,qbox kaxk qroby | chave = 24\n",
      "\n",
      "bznw awepwbnkiwiaywpkw,eo.hzeiwpdawejbhqaj.awkbwzi epekjwzj,wbziaxwjkwherejcwokqhwaranwszowiknawei qa,wsepdwepwpdzjwiuoahbwxxxw qpwew.anpzejhuwskqh,wjkpw,a.aerawiuoahbwknwkpdanow uwlnapaj,ejcwepweowkpdanwpdzjwzwranuweilknpzjpwikperawzj,wejcna,eajpwejwiuw.dznz.panwzj,wjzpqnax | chave = 25\n",
      "\n",
      "aymvz,vdovamjhvh,xvojv.dn gydhvoc,vdiagp,i ,vjavyhzdodjivyi.vayh,wvijvgdqdibvnjpgv,q,mvrynvhjm,vdhzp,.vrdocvdovocyivhtn,gavwwwvzpovdv ,moydigtvrjpg.vijov., ,dq,vhtn,gavjmvjoc,mnvztvkm,o,i.dibvdovdnvjoc,mvocyivyvq,mtvdhkjmoyiovhjodq,vyi.vdibm,.d,iovdivhtv cymy o,mvyi.viyopm,w | chave = 26\n",
      "\n",
      ",xluy.ucnu,ligug.wuniu cmzfxcgunb.uch,fo.hz.ui,uxgycncihuxh u,xg.vuhiufcpchaumiofu.p.luqxmugil.ucgyo. uqcnbucnunbxhugsm.f,uvvvuyonucuz.lnxchfsuqiof uhinu .z.cp.ugsm.f,uiluinb.lmuysujl.n.h chaucnucmuinb.lunbxhuxup.lsucgjilnxhnugincp.uxh uchal. c.hnuchugsuzbxlxzn.luxh uhxnol.v | chave = 27\n",
      "\n",
      ".wktx tbmt.khftf vtmhtzblyewbftma tbg.en gy th.twfxbmbhgtwgzt.wf utghtebobg,tlhnet o ktpwltfhk tbfxn ztpbmatbmtmawgtfrl e.tuuutxnmtbty kmwbgertphneztghmtz y bo tfrl e.thkthma kltxrtik m gzbg,tbmtblthma ktmawgtwto krtbfihkmwgmtfhmbo twgztbg,k zb gmtbgtfrtyawkwym ktwgztgwmnk u | chave = 28\n",
      "\n",
      "0.010307788848876953\n"
     ]
    }
   ],
   "source": [
    "caesar_brute(ciphert)"
   ]
  },
  {
   "cell_type": "markdown",
   "metadata": {
    "collapsed": true
   },
   "source": [
    "com um texto maior, a decriptação por força bruta demora 10 vezes mais para ser feita. ainda é pouco tempo, mas o aumento é grande."
   ]
  }
 ],
 "metadata": {
  "kernelspec": {
   "display_name": "Python 3",
   "language": "python",
   "name": "python3"
  },
  "language_info": {
   "codemirror_mode": {
    "name": "ipython",
    "version": 3
   },
   "file_extension": ".py",
   "mimetype": "text/x-python",
   "name": "python",
   "nbconvert_exporter": "python",
   "pygments_lexer": "ipython3",
   "version": "3.5.2+"
  }
 },
 "nbformat": 4,
 "nbformat_minor": 0
}
