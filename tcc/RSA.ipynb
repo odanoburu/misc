{
 "cells": [
  {
   "cell_type": "markdown",
   "metadata": {},
   "source": [
    "## criptografia assimétrica\n",
    "\n",
    "### um exemplo em Python usando o algoritmo [RSA](https://pt.wikipedia.org/wiki/RSA)"
   ]
  },
  {
   "cell_type": "markdown",
   "metadata": {},
   "source": [
    "em primeiro lugar, precisamos dois números primos, que chamamos aqui de $p$ e $q$.\n",
    "\n",
    "neste exemplo, geramos uma lista dos números primos até um número $n$ que escolhemos. a lista é gerada usando um algoritmo desse [usuário](http://stackoverflow.com/users/350331) do stackoverflow (adaptado por esse [usuário](http://stackoverflow.com/users/5439078/jason)), mas poderíamos ter usado uma lista de primos gerada por qualquer meio.\n",
    "\n",
    "no mundo real, o algoritmo RSA emprega números primos de ordens superiores à $10^{100}$, e por isso gera esses esses números de forma diferente do código abaixo: chuta-se um valor dessa ordem, e emprega-se um teste de primalidade com probabilidade praticamente zero de falso positivo; se o número passa no teste, usa-se o número, senão soma-se um ao número e faz-se o teste novamente."
   ]
  },
  {
   "cell_type": "code",
   "execution_count": 1,
   "metadata": {
    "collapsed": false
   },
   "outputs": [],
   "source": [
    "import itertools\n",
    "izip = itertools.zip_longest\n",
    "chain = itertools.chain.from_iterable\n",
    "compress = itertools.compress\n",
    "def rwh_primes(n):\n",
    "    \"\"\" Input n>=6, Returns a list of primes, 2 <= p < n \"\"\"\n",
    "    zero = bytearray([False])\n",
    "    size = n//3 + (n % 6 == 2)\n",
    "    sieve = bytearray([True]) * size\n",
    "    sieve[0] = False\n",
    "    for i in range(int(n**0.5)//3+1):\n",
    "        if sieve[i]:\n",
    "            k=3*i+1|1\n",
    "            start = (k*k+4*k-2*k*(i&1))//3\n",
    "            sieve[(k*k)//3::2*k]=zero*((size - (k*k)//3 - 1) // (2 * k) + 1)\n",
    "            sieve[  start ::2*k]=zero*((size -   start  - 1) // (2 * k) + 1)\n",
    "    ans = [2,3]\n",
    "    poss = chain(izip(*[range(i, n, 6) for i in (1,5)]))\n",
    "    ans.extend(compress(poss, sieve))\n",
    "    return ans"
   ]
  },
  {
   "cell_type": "markdown",
   "metadata": {},
   "source": [
    "gerando primos até 100.000.000 a título de exemplo."
   ]
  },
  {
   "cell_type": "code",
   "execution_count": 2,
   "metadata": {
    "collapsed": false,
    "scrolled": false
   },
   "outputs": [
    {
     "name": "stdout",
     "output_type": "stream",
     "text": [
      "primos de 2 até 100.000: [2, 3, 5, 7, 11, 13, 17, 19, 23, 29, 31, 37, 41, 43, 47, 53, 59, 61, 67, 71] ... [99999587, 99999589, 99999611, 99999617, 99999623, 99999643, 99999677, 99999703, 99999721, 99999773, 99999787, 99999821, 99999827, 99999839, 99999847, 99999931, 99999941, 99999959, 99999971, 99999989]\n"
     ]
    }
   ],
   "source": [
    "prime_list = rwh_primes(100000000)\n",
    "length = len(prime_list)\n",
    "print(\"primos de 2 até 100.000:\", prime_list[:20], \"...\", prime_list[length-20:])"
   ]
  },
  {
   "cell_type": "markdown",
   "metadata": {},
   "source": [
    "aqui escolhemos dois primos da lista, aleatoriamente."
   ]
  },
  {
   "cell_type": "code",
   "execution_count": 3,
   "metadata": {
    "collapsed": false
   },
   "outputs": [
    {
     "name": "stdout",
     "output_type": "stream",
     "text": [
      "p = 80572187 , q = 59697359\n"
     ]
    }
   ],
   "source": [
    "import random as rd\n",
    "p = rd.choice(prime_list)\n",
    "q = rd.choice(prime_list)\n",
    "print(\"p =\", p, \", q =\", q)"
   ]
  },
  {
   "cell_type": "markdown",
   "metadata": {},
   "source": [
    "calculamos $n$, a multiplicação de $p$ e $q$, e o seu [tociente](https://pt.wikipedia.org/wiki/Fun%C3%A7%C3%A3o_totiente_de_Euler), definido por: \n",
    "\n",
    "$$\\phi(n) = \\phi(p \\cdot q) = (p-1) \\cdot (q-1)$$\n",
    "\n",
    "o tociente de $n$ é a quantidade de números menores do que $n$ [co-primos](https://pt.wikipedia.org/wiki/N%C3%BAmeros_primos_entre_si) em relação à $n$. \n",
    "\n",
    "para um número primo $p$, é fácil ver que todos os números menores do que $p$ são co-primos em relação a $p$, e por isso:\n",
    "\n",
    "$$ \\phi(p) = (p-1), \\forall p \\in \\mathbb{P}$$\n",
    "\n",
    "como a função tociente $\\phi$ é multiplicativa, vale a fórmula acima. (não ofereço prova)"
   ]
  },
  {
   "cell_type": "code",
   "execution_count": 4,
   "metadata": {
    "collapsed": false
   },
   "outputs": [
    {
     "name": "stdout",
     "output_type": "stream",
     "text": [
      "n = 4809946772754133 , phi = 4809946632484588\n"
     ]
    }
   ],
   "source": [
    "n = p*q\n",
    "phi = (p-1)*(q-1)\n",
    "print(\"n =\", n, \", phi =\", phi)"
   ]
  },
  {
   "cell_type": "markdown",
   "metadata": {},
   "source": [
    "aqui escolhemos $e$, um número primo que também seja coprimo em relação à $n$. como $e$ faz parte da chave pública, ele não precisa ser aleatório (e geralmente não o é), mas aqui escolhemos $e$ aleatoriamente."
   ]
  },
  {
   "cell_type": "code",
   "execution_count": 5,
   "metadata": {
    "collapsed": false
   },
   "outputs": [
    {
     "name": "stdout",
     "output_type": "stream",
     "text": [
      "e = 38483509\n"
     ]
    }
   ],
   "source": [
    "from math import gcd\n",
    "\n",
    "# it's fine if e is not random, because if a large number is picked, things may get slow during encryption\n",
    "def find_coprime(p, q):\n",
    "    n = p * q\n",
    "    maxp = max(p, q)\n",
    "    maxp_ix = prime_list.index(maxp)\n",
    "    i = rd.choice(prime_list[:maxp_ix])\n",
    "    not_found = True\n",
    "    while not_found:\n",
    "        if gcd(i, n) == 1:\n",
    "            coprime = i\n",
    "            not_found = False\n",
    "        else:\n",
    "            i = rd.choice(prime_list[:maxp_ix])\n",
    "    return coprime\n",
    "\n",
    "# the function below (in red) is the one usually employed:\n",
    "'''def find_coprime(n):\n",
    "    # not using this function because I'm not choosing primes garanteed to be greater than 65537\n",
    "    i = 65537\n",
    "    not_found = True\n",
    "    while not_found:\n",
    "        if gcd(i, n) == 1:\n",
    "            coprime = i\n",
    "            not_found = False\n",
    "        else:\n",
    "            prime_ind = prime_list.index(i)\n",
    "            i = prime_list(prime_ind + 1)\n",
    "    return coprime'''\n",
    "\n",
    "e = find_coprime(p, q)\n",
    "print(\"e =\", e)"
   ]
  },
  {
   "cell_type": "markdown",
   "metadata": {},
   "source": [
    "agora, precisamos de $d$ para a chave privada. $d$ é o inverso multiplicativo de $e$ em relação à $\\phi (n)$, i.e., $d$ é o número tal que:\n",
    "\n",
    "$$e\\cdot d = 1 \\bmod \\phi(n)$$\n",
    "\n",
    "a fórmula acima diz que $e \\cdot d$ dividido por $\\phi (n)$ tem resto 1.\n",
    "\n",
    "tendo $e$, para achar $d$ usamos o [algoritmo de euclides extendido](https://pt.wikipedia.org/wiki/Algoritmo_de_Euclides_estendido):"
   ]
  },
  {
   "cell_type": "code",
   "execution_count": 6,
   "metadata": {
    "collapsed": false
   },
   "outputs": [],
   "source": [
    "import sys\n",
    "sys.setrecursionlimit(1000000)  # long type,32bit OS 4B,64bit OS 8B(1bit for sign)\n",
    "# code in this cell from: https://en.wikibooks.org/wiki/Algorithm_Implementation/Mathematics/Extended_Euclidean_algorithm\n",
    "\n",
    "def egcd(a, b):\n",
    "# return (g, x, y) in a*x + b*y = g = gcd(x, y)\n",
    "    #print(\"egcd called using a = \" + str(a) + \" and b = \" + str(b))\n",
    "    if a == 0:\n",
    "        return (b, 0, 1)\n",
    "    else:\n",
    "        g, x, y = egcd(b % a, a)\n",
    "        #print(\"intermediate result, g = \" + str(g) + \" and x = \" + str(y - (b // a) * x) + \" and y = \" + str(x))\n",
    "        return (g, y - (b // a) * x, x)\n",
    "\n",
    "def mulinv(b, n):\n",
    "# x = mulinv(b) mod n, (x * b) % n == 1\n",
    "    g, x, _ = egcd(b, n)\n",
    "    if g == 1:\n",
    "        return x % n"
   ]
  },
  {
   "cell_type": "code",
   "execution_count": 7,
   "metadata": {
    "collapsed": false,
    "scrolled": true
   },
   "outputs": [
    {
     "name": "stdout",
     "output_type": "stream",
     "text": [
      "d = 2589194910363685\n"
     ]
    }
   ],
   "source": [
    "d = mulinv(e, phi)\n",
    "print(\"d =\", d)"
   ]
  },
  {
   "cell_type": "markdown",
   "metadata": {},
   "source": [
    "conferindo o resultado:"
   ]
  },
  {
   "cell_type": "code",
   "execution_count": 8,
   "metadata": {
    "collapsed": false
   },
   "outputs": [
    {
     "data": {
      "text/plain": [
       "1"
      ]
     },
     "execution_count": 8,
     "metadata": {},
     "output_type": "execute_result"
    }
   ],
   "source": [
    "e*d % phi"
   ]
  },
  {
   "cell_type": "markdown",
   "metadata": {},
   "source": [
    "agora podemos começar a aplicar o algoritmo RSA propriamente dito. montamos as chaves pública e privada da seguinte forma:\n",
    "\n",
    "$\\mathit{ChavePub} = (e, n)$ e $\\mathit{ChavePriv} = (d, n)$."
   ]
  },
  {
   "cell_type": "code",
   "execution_count": 9,
   "metadata": {
    "collapsed": false
   },
   "outputs": [
    {
     "name": "stdout",
     "output_type": "stream",
     "text": [
      "chave pública = (38483509, 4809946772754133)\n"
     ]
    }
   ],
   "source": [
    "pub_key = (e, n)\n",
    "print(\"chave pública =\", pub_key)"
   ]
  },
  {
   "cell_type": "code",
   "execution_count": 10,
   "metadata": {
    "collapsed": false
   },
   "outputs": [
    {
     "name": "stdout",
     "output_type": "stream",
     "text": [
      "chave privada = (2589194910363685, 4809946772754133)\n"
     ]
    }
   ],
   "source": [
    "pri_key = (d, n)\n",
    "print(\"chave privada =\", pri_key)"
   ]
  },
  {
   "cell_type": "markdown",
   "metadata": {},
   "source": [
    "agora escrevemos as funções de encriptação e decriptação:\n",
    "\n",
    "$$ E(m, \\mathit{ChavePub}) \\equiv E(m, e, n) = m^e \\bmod n = c $$\n",
    "\n",
    "$$ D(c, \\mathit{ChavePriv}) \\equiv D(c, d, n) = c^d \\bmod n = m $$\n",
    "\n",
    "em que $m$ é a mensagem pura, $c$ é a mensagem cifrada, e $n$ é a multiplicação dos números primos $p$ e $q$."
   ]
  },
  {
   "cell_type": "code",
   "execution_count": 11,
   "metadata": {
    "collapsed": false
   },
   "outputs": [],
   "source": [
    "def encrypt(m, pub_key):\n",
    "    e, n = pub_key\n",
    "    #print(e, n)\n",
    "    '''ciphertext = cipher(plaintext)\n",
    "    m = int(ciphertext)'''\n",
    "    c = pow(m, e, n) # same as (m**e) % n\n",
    "    return c"
   ]
  },
  {
   "cell_type": "code",
   "execution_count": 12,
   "metadata": {
    "collapsed": false
   },
   "outputs": [
    {
     "data": {
      "text/plain": [
       "'def decrypt2(c, pri_key):\\n    # uses Chinese Remainder Theorem to speed up calculations, thanks to Joao H de A Franco at https://jhafranco.com\\n    d, n = pri_key\\n    #print(d, n)\\n    m1 = pow(c, d % (p - 1), p)\\n    m2 = pow(c, d % (q - 1), q)\\n    h = (mulinv(q, p) * (m1 - m2)) % p\\n    m = m2 + h * q\\n    #plaintext = decipher(m)\\n    return m'"
      ]
     },
     "execution_count": 12,
     "metadata": {},
     "output_type": "execute_result"
    }
   ],
   "source": [
    "def decrypt(c, pri_key):\n",
    "    d, n = pri_key\n",
    "    #print(d, n)\n",
    "    m = pow(c, d, n) # same as (c**d) % n\n",
    "    return m\n",
    "\n",
    "# the function below (in red) is a more efficient way of decrypting a ciphertext, using the chinese remainder theorem.\n",
    "'''def decrypt2(c, pri_key):\n",
    "    # uses Chinese Remainder Theorem to speed up calculations, thanks to Joao H de A Franco at https://jhafranco.com\n",
    "    d, n = pri_key\n",
    "    #print(d, n)\n",
    "    m1 = pow(c, d % (p - 1), p)\n",
    "    m2 = pow(c, d % (q - 1), q)\n",
    "    h = (mulinv(q, p) * (m1 - m2)) % p\n",
    "    m = m2 + h * q\n",
    "    #plaintext = decipher(m)\n",
    "    return m'''"
   ]
  },
  {
   "cell_type": "markdown",
   "metadata": {},
   "source": [
    "imaginemos agora que Babbage queira enviar por correio para Ada a senha para o uso de seu computador analítico. como seu computador tem arquivos confidenciais, Babbage não quer colocar a senha pura no papel; ele quer encriptá-la para que só Ada possa lê-la. Babbage encripta a senha do seu computador ($m$) usando a chave-pública de Ada, $e$ e $n$. a chave-pública é algo que Ada distribui para os seus amigos. (assim como ela deu seu endereço para Babbage, ele também deu sua chave-pública; é o equivalente atual de dizer seu endereço de email para um amigo ou colega)\n",
    "\n",
    "Babbage faz: \n",
    "\n",
    "$$ E(m, e, n) = m^e \\bmod n = c $$\n",
    "\n",
    "i.e., Babbage eleva $m$ à $e$-esima potência, divide o valor encontrado por n, e encontra o resto da divisão. esse resto é a mensagem cifrada $c$. Babbage escreve $c$ na sua carta para Ada.\n",
    "\n",
    "com $m = 26121791$, Babbage faz:"
   ]
  },
  {
   "cell_type": "code",
   "execution_count": 13,
   "metadata": {
    "collapsed": false
   },
   "outputs": [
    {
     "name": "stdout",
     "output_type": "stream",
     "text": [
      "c = 575073478552795\n"
     ]
    }
   ],
   "source": [
    "c = encrypt(26121791, pub_key)\n",
    "print(\"c =\", c)"
   ]
  },
  {
   "cell_type": "markdown",
   "metadata": {},
   "source": [
    "[algumas horas depois](http://nyti.ms/1ABDhKp), Ada recebe a carta de Babbage. Ada recolhe a mensagem cifrada $c$. para decifrá-la, Ada usa sua chave-privada $d$ e $n$. só Ada conhece o valor $d$. Ada faz:\n",
    "\n",
    "$$ D(c, d, n) = c^d \\bmod n = m $$\n",
    "\n",
    "i.e., Ada eleva a mensagem cifrada $c$ à $d$-ésima potência, divide o valor encontrado por n, e encontra o resto da divisão. esse resto é a mensagem pura original $m$, a senha para o computador analítico de Babbage. isso só ocorre por conta das propriedades matemáticas dos números e das operações escolhidas."
   ]
  },
  {
   "cell_type": "code",
   "execution_count": 14,
   "metadata": {
    "collapsed": false
   },
   "outputs": [
    {
     "data": {
      "text/plain": [
       "26121791"
      ]
     },
     "execution_count": 14,
     "metadata": {},
     "output_type": "execute_result"
    }
   ],
   "source": [
    "m = decrypt(c, pri_key)\n",
    "m"
   ]
  },
  {
   "cell_type": "markdown",
   "metadata": {
    "collapsed": true
   },
   "source": [
    "Ada digita a senha, e voilà, o computador analítico está a sua disposição.\n",
    "\n",
    "___\n",
    "\n",
    "por um descuido, Ada não queima a carta enviada por Babbage. ela vai para o lixo, e por um acaso, vai parar na mão de um inimigo de Babbage, Epshank. Epshank lê a carta e descobre que $c$ é a forma cifrada da senha do computador analítico de Babbage. Epshank quer muito decifrar a senha, e ele sabe a chave-pública de Ada que foi usada para encriptar a mensagem (afinal, a chave-pública é pública). para tentar adivinhar a chave-privada de Ada, Epshank precisar encontrar $d$, já que $n$ faz parte da chave-pública que ele conhece. Ora, $d$ é o inverso multiplicativo de $e$, que Epshank conhece. $d$ obedece à relação $e \\cdot d = 1 \\bmod \\phi (n)$, o que Epshank também sabe. Epshank não sabe quanto é $\\phi (n)$, mas sabe que $\\phi (n) = (p-1) \\cdot (q-1)$, em que $p$ e $q$ são os números primos que compõem $n$. Epshank puxa de sua memória como se fatora um número:\n",
    "\n",
    "<img src=\"fatoracao.png\" alt=\"fatoração de um número\" width=\"250\" >\n",
    "\n",
    "\"ora, parece fácil.\", pensou Epshank. mas quando Epshank tentou fatorar $n$, ele desistiu."
   ]
  },
  {
   "cell_type": "code",
   "execution_count": 15,
   "metadata": {
    "collapsed": false
   },
   "outputs": [
    {
     "name": "stdout",
     "output_type": "stream",
     "text": [
      "n = 4809946772754133\n"
     ]
    }
   ],
   "source": [
    "print(\"n =\", n)"
   ]
  },
  {
   "cell_type": "markdown",
   "metadata": {},
   "source": [
    "$n$ é um número MUITO grande. no RSA implantado no mundo real, $n$ seria um número superior a $2^{2047}.\n",
    "\n",
    "a segurança do algoritmo RSA reside nesse simples fato: é fácil calcular $n$ ou $\\phi (n)$ dados dois números primos $p$ e $q$, mas achar $p$ e $q$ dado $n$ é muito mais difícil.\n",
    "\n",
    "um exemplo que pode ser calculado com papel e lápis é os seguinte. calcule $n$ dado $p = 419$ e $q = 521$. é fácil achar o valor de $n$ nesse caso, sem usar calculadora alguma (vá lá, tente.)\n",
    "\n",
    "agora, se eu lhe der o número $183731$ e lhe pedir para fatorá-lo, você vai levar mais tempo. se eu lhe der um número com 617 dígitos então, até mesmo um computador vai levar mais de décadas para resolver o problema usando força bruta."
   ]
  },
  {
   "cell_type": "markdown",
   "metadata": {},
   "source": [
    "Fontes:\n",
    "\n",
    "http://doctrina.org/How-RSA-Works-With-Examples.html\n",
    "    \n",
    "http://logos.cs.uic.edu/340%20notes/rsa.html\n",
    "    \n",
    "https://www.cs.utexas.edu/~mitra/honors/soln.html"
   ]
  }
 ],
 "metadata": {
  "anaconda-cloud": {},
  "kernelspec": {
   "display_name": "Python 3",
   "language": "python",
   "name": "python3"
  },
  "language_info": {
   "codemirror_mode": {
    "name": "ipython",
    "version": 3
   },
   "file_extension": ".py",
   "mimetype": "text/x-python",
   "name": "python",
   "nbconvert_exporter": "python",
   "pygments_lexer": "ipython3",
   "version": "3.5.2+"
  }
 },
 "nbformat": 4,
 "nbformat_minor": 0
}
